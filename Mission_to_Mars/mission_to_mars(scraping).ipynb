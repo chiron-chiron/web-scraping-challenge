{
 "cells": [
  {
   "cell_type": "markdown",
   "metadata": {},
   "source": [
    "# Step 1 - Scraping #\n",
    "\n",
    "Use Jupyter Notebook, BeautifulSoup, Pandas, and Requests/Splinter."
   ]
  },
  {
   "cell_type": "code",
   "execution_count": 1,
   "metadata": {},
   "outputs": [],
   "source": [
    "# Dependencies\n",
    "from bs4 import BeautifulSoup\n",
    "import requests\n",
    "from webdriver_manager.chrome import ChromeDriverManager\n",
    "import pymongo\n",
    "from selenium import webdriver\n",
    "from selenium.webdriver.chrome.options import Options"
   ]
  },
  {
   "cell_type": "markdown",
   "metadata": {},
   "source": [
    "### NASA Mars News\n",
    "\n",
    "Scrape the Mars News Site (https://redplanetscience.com/) and;\n",
    "collect the latest News Title and Paragraph Text. \n",
    "Assign the text to variables that you can reference later."
   ]
  },
  {
   "cell_type": "code",
   "execution_count": 2,
   "metadata": {},
   "outputs": [],
   "source": [
    "# URL of page to be scraped\n",
    "url_nasa_mars_news = 'https://mars.nasa.gov/news/'\n",
    "    # Tried using link provided, couldn't get it to work. \n",
    "    # Was advised by classmate, to use above link.\n",
    "    # Was later advised by AskBSC redplanetscience was correct link.\n",
    "    # Will use links provided in readme, moving forward.\n",
    "\n",
    "# Retrieve page, with requests module\n",
    "response_mars = requests.get(url_nasa_mars_news)"
   ]
  },
  {
   "cell_type": "code",
   "execution_count": 3,
   "metadata": {},
   "outputs": [],
   "source": [
    "# Create BeautifulSoup object; parse with 'html.parser'\n",
    "soup = BeautifulSoup(response_mars.text, 'html.parser')\n",
    "# print(soup.prettify())"
   ]
  },
  {
   "cell_type": "code",
   "execution_count": 4,
   "metadata": {},
   "outputs": [],
   "source": [
    "# Find all div elements and class, for news titles\n",
    "news_titles = soup.find_all('div', class_=\"slide\")"
   ]
  },
  {
   "cell_type": "code",
   "execution_count": 5,
   "metadata": {},
   "outputs": [
    {
     "name": "stdout",
     "output_type": "stream",
     "text": [
      "NASA Will Inspire World When It Returns Mars Samples to Earth in 2033\n",
      "This advanced mission architecture will include two sample recovery helicopters.\n"
     ]
    }
   ],
   "source": [
    "# Retrieve latest news title\n",
    "latest_title = news_titles[0].find('div', class_='content_title')\n",
    "news_title = latest_title.text.strip()\n",
    "print(news_title)\n",
    "\n",
    "# Retrieve corresponding latest news paragraph\n",
    "latest_paragrapph = news_titles[0].find('div', class_='rollover_description_inner')\n",
    "news_p = latest_paragrapph.text.strip()\n",
    "print(news_p)"
   ]
  },
  {
   "cell_type": "markdown",
   "metadata": {},
   "source": [
    "### JPL Mars Space Images - Featured Image"
   ]
  },
  {
   "cell_type": "code",
   "execution_count": 153,
   "metadata": {},
   "outputs": [
    {
     "name": "stdout",
     "output_type": "stream",
     "text": [
      "\n",
      "featured_image_url = https://spaceimages-mars.com/image/featured/mars1.jpg\n"
     ]
    }
   ],
   "source": [
    "## 1) open URL via splinter to navigate to url\n",
    "## 2) use beautiful soup to parse page and obtain full size image .jpg\n",
    "## 3) use splinter to navigate by clicking full image\n",
    "\n",
    "## 1) open URL via splinter in prep to navigate to full image =========================\n",
    "# Import splinter and set up the chromedriver path\n",
    "from splinter import Browser\n",
    "\n",
    "# Set url\n",
    "mars_space_images_url = 'https://spaceimages-mars.com'\n",
    "\n",
    "executable_path = {'executable_path': ChromeDriverManager().install()}\n",
    "browser = Browser('chrome', **executable_path, headless=False)\n",
    "browser.visit(mars_space_images_url)\n",
    "\n",
    "# Setup BeautifulSoup\n",
    "html = browser.html\n",
    "fullimage_html = BeautifulSoup(html, \"html.parser\")\n",
    "\n",
    "# Find link to full image page\n",
    "fullimage_url_link = fullimage_html.find('img', class_='headerimage fade-in').get('src')\n",
    "featured_image_url = (f'{mars_space_images_url}/{fullimage_url_link}')\n",
    "print(f'featured_image_url = {featured_image_url}')\n",
    "\n",
    "\n",
    "## 3) use splinter to navigate by clicking full image ==================================\n",
    "# This was not required, as above link works to provide full image.\n",
    "# button_by_text = browser.find_by_text(' FULL IMAGE')\n",
    "# button_by_text.click()\n",
    "\n",
    "## 4) Quit browser\n",
    "browser.quit()"
   ]
  },
  {
   "cell_type": "markdown",
   "metadata": {},
   "source": [
    "### Mars Facts"
   ]
  },
  {
   "cell_type": "code",
   "execution_count": 2,
   "metadata": {},
   "outputs": [],
   "source": [
    "# Dependencies\n",
    "import pandas as pd"
   ]
  },
  {
   "cell_type": "code",
   "execution_count": 15,
   "metadata": {},
   "outputs": [
    {
     "data": {
      "text/plain": [
       "<bound method DataFrame.to_html of       Profile_component                          Value\n",
       "0  Equatorial Diameter:                       6,792 km\n",
       "1       Polar Diameter:                       6,752 km\n",
       "2                 Mass:  6.39 × 10^23 kg (0.11 Earths)\n",
       "3                Moons:          2 ( Phobos & Deimos )\n",
       "4       Orbit Distance:       227,943,824 km (1.38 AU)\n",
       "5         Orbit Period:           687 days (1.9 years)\n",
       "6  Surface Temperature:                   -87 to -5 °C\n",
       "7         First Record:              2nd millennium BC\n",
       "8          Recorded By:           Egyptian astronomers>"
      ]
     },
     "execution_count": 15,
     "metadata": {},
     "output_type": "execute_result"
    }
   ],
   "source": [
    "url_mars_facts = 'https://galaxyfacts-mars.com/'\n",
    "tables = pd.read_html(url_mars_facts)\n",
    "# print(tables)\n",
    "\n",
    "# From type(tables), understand tables returned as list.append\n",
    "# Want 2nd table:\n",
    "mars_facts_df = tables[1]\n",
    "# mars_facts_df.head()\n",
    "\n",
    "# Rename columns\n",
    "mars_facts_df.columns = [\"Profile_component\", \"Value\"]\n",
    "mars_facts_df\n",
    "\n",
    "# Convert df to HTML table string, using pandas\n",
    "mars_facts_html = mars_facts_df.to_html\n",
    "mars_facts_html"
   ]
  },
  {
   "cell_type": "code",
   "execution_count": null,
   "metadata": {},
   "outputs": [],
   "source": []
  },
  {
   "cell_type": "code",
   "execution_count": null,
   "metadata": {},
   "outputs": [],
   "source": []
  },
  {
   "cell_type": "code",
   "execution_count": null,
   "metadata": {},
   "outputs": [],
   "source": []
  }
 ],
 "metadata": {
  "kernelspec": {
   "display_name": "Python 3 (ipykernel)",
   "language": "python",
   "name": "python3"
  },
  "language_info": {
   "codemirror_mode": {
    "name": "ipython",
    "version": 3
   },
   "file_extension": ".py",
   "mimetype": "text/x-python",
   "name": "python",
   "nbconvert_exporter": "python",
   "pygments_lexer": "ipython3",
   "version": "3.7.13"
  },
  "vscode": {
   "interpreter": {
    "hash": "c1045dce47e268ff1365c3f603defeb0aa850c229e636842f21fdc3e170438c8"
   }
  }
 },
 "nbformat": 4,
 "nbformat_minor": 2
}
