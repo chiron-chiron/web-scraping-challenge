{
 "cells": [
  {
   "cell_type": "markdown",
   "metadata": {},
   "source": [
    "# Step 1 - Scraping #\n",
    "\n",
    "Use Jupyter Notebook, BeautifulSoup, Pandas, and Requests/Splinter."
   ]
  },
  {
   "cell_type": "code",
   "execution_count": 1,
   "metadata": {},
   "outputs": [],
   "source": [
    "# Dependencies\n",
    "from bs4 import BeautifulSoup\n",
    "import requests\n",
    "from webdriver_manager.chrome import ChromeDriverManager\n",
    "import pymongo\n",
    "from selenium import webdriver\n",
    "from selenium.webdriver.chrome.options import Options\n",
    "from splinter import Browser"
   ]
  },
  {
   "cell_type": "markdown",
   "metadata": {},
   "source": [
    "### NASA Mars News\n",
    "\n",
    "Scrape the Mars News Site (https://redplanetscience.com/) and;\n",
    "collect the latest News Title and Paragraph Text. \n",
    "Assign the text to variables that you can reference later."
   ]
  },
  {
   "cell_type": "code",
   "execution_count": 2,
   "metadata": {},
   "outputs": [],
   "source": [
    "# URL of page to be scraped\n",
    "url_nasa_mars_news = 'https://mars.nasa.gov/news/'\n",
    "    # Tried using link provided, couldn't get it to work. \n",
    "    # Was advised by classmate, to use above link.\n",
    "    # Was later advised by AskBSC redplanetscience was correct link.\n",
    "    # Will use links provided in readme, moving forward.\n",
    "\n",
    "# Retrieve page, with requests module\n",
    "response_mars = requests.get(url_nasa_mars_news)"
   ]
  },
  {
   "cell_type": "code",
   "execution_count": 3,
   "metadata": {},
   "outputs": [],
   "source": [
    "# Create BeautifulSoup object; parse with 'html.parser'\n",
    "soup = BeautifulSoup(response_mars.text, 'html.parser')\n",
    "# print(soup.prettify())"
   ]
  },
  {
   "cell_type": "code",
   "execution_count": 4,
   "metadata": {},
   "outputs": [],
   "source": [
    "# Find all div elements and class, for news titles\n",
    "news_titles = soup.find_all('div', class_=\"slide\")"
   ]
  },
  {
   "cell_type": "code",
   "execution_count": 5,
   "metadata": {},
   "outputs": [
    {
     "name": "stdout",
     "output_type": "stream",
     "text": [
      "NASA Will Inspire World When It Returns Mars Samples to Earth in 2033\n",
      "This advanced mission architecture will include two sample recovery helicopters.\n"
     ]
    }
   ],
   "source": [
    "# Retrieve latest news title\n",
    "latest_title = news_titles[0].find('div', class_='content_title')\n",
    "news_title = latest_title.text.strip()\n",
    "print(news_title)\n",
    "\n",
    "# Retrieve corresponding latest news paragraph\n",
    "latest_paragrapph = news_titles[0].find('div', class_='rollover_description_inner')\n",
    "news_p = latest_paragrapph.text.strip()\n",
    "print(news_p)"
   ]
  },
  {
   "cell_type": "markdown",
   "metadata": {},
   "source": [
    "### JPL Mars Space Images - Featured Image"
   ]
  },
  {
   "cell_type": "code",
   "execution_count": 27,
   "metadata": {},
   "outputs": [
    {
     "name": "stdout",
     "output_type": "stream",
     "text": [
      "\n",
      "featured_image_url = https://spaceimages-mars.com/image/featured/mars2.jpg\n"
     ]
    }
   ],
   "source": [
    "## 1) open URL via splinter to navigate to url\n",
    "## 2) use beautiful soup to parse page and obtain full size image .jpg\n",
    "## 3) use splinter to navigate by clicking full image\n",
    "\n",
    "## 1) open URL via splinter in prep to navigate to full image =========================\n",
    "# Import splinter and set up the chromedriver path\n",
    "from splinter import Browser\n",
    "\n",
    "# Set url\n",
    "mars_space_images_url = 'https://spaceimages-mars.com'\n",
    "\n",
    "executable_path = {'executable_path': ChromeDriverManager().install()}\n",
    "browser = Browser('chrome', **executable_path, headless=False)\n",
    "browser.visit(mars_space_images_url)\n",
    "\n",
    "# Setup BeautifulSoup\n",
    "html = browser.html\n",
    "fullimage_html = BeautifulSoup(html, \"html.parser\")\n",
    "\n",
    "# Find link to full image page\n",
    "fullimage_url_link = fullimage_html.find('img', class_='headerimage fade-in').get('src')\n",
    "featured_image_url = (f'{mars_space_images_url}/{fullimage_url_link}')\n",
    "print(f'featured_image_url = {featured_image_url}')\n",
    "\n",
    "\n",
    "## 3) use splinter to navigate by clicking full image ==================================\n",
    "# This was not required, as above link works to provide full image.\n",
    "# button_by_text = browser.find_by_text(' FULL IMAGE')\n",
    "# button_by_text.click()\n",
    "\n",
    "## 4) Quit browser\n",
    "browser.quit()"
   ]
  },
  {
   "cell_type": "markdown",
   "metadata": {},
   "source": [
    "### Mars Facts"
   ]
  },
  {
   "cell_type": "code",
   "execution_count": 2,
   "metadata": {},
   "outputs": [],
   "source": [
    "# Dependencies\n",
    "import pandas as pd"
   ]
  },
  {
   "cell_type": "code",
   "execution_count": 15,
   "metadata": {},
   "outputs": [
    {
     "data": {
      "text/plain": [
       "<bound method DataFrame.to_html of       Profile_component                          Value\n",
       "0  Equatorial Diameter:                       6,792 km\n",
       "1       Polar Diameter:                       6,752 km\n",
       "2                 Mass:  6.39 × 10^23 kg (0.11 Earths)\n",
       "3                Moons:          2 ( Phobos & Deimos )\n",
       "4       Orbit Distance:       227,943,824 km (1.38 AU)\n",
       "5         Orbit Period:           687 days (1.9 years)\n",
       "6  Surface Temperature:                   -87 to -5 °C\n",
       "7         First Record:              2nd millennium BC\n",
       "8          Recorded By:           Egyptian astronomers>"
      ]
     },
     "execution_count": 15,
     "metadata": {},
     "output_type": "execute_result"
    }
   ],
   "source": [
    "url_mars_facts = 'https://galaxyfacts-mars.com/'\n",
    "tables = pd.read_html(url_mars_facts)\n",
    "# print(tables)\n",
    "\n",
    "# From type(tables), understand tables returned as list.append\n",
    "# Want 2nd table:\n",
    "mars_facts_df = tables[1]\n",
    "# mars_facts_df.head()\n",
    "\n",
    "# Rename columns\n",
    "mars_facts_df.columns = [\"Profile_component\", \"Value\"]\n",
    "mars_facts_df\n",
    "\n",
    "# Convert df to HTML table string, using pandas\n",
    "mars_facts_html = mars_facts_df.to_html\n",
    "mars_facts_html"
   ]
  },
  {
   "cell_type": "markdown",
   "metadata": {},
   "source": [
    "### Mars Hemispheres"
   ]
  },
  {
   "cell_type": "code",
   "execution_count": 176,
   "metadata": {},
   "outputs": [
    {
     "name": "stdout",
     "output_type": "stream",
     "text": [
      "\n",
      "\n",
      "\n",
      "\n"
     ]
    },
    {
     "data": {
      "text/plain": [
       "[{'title': 'Cerberus Hemisphere Enhanced',\n",
       "  'img_url': 'https://marshemispheres.com/images/f5e372a36edfa389625da6d0cc25d905_cerberus_enhanced.tif_full.jpg'},\n",
       " {'title': 'Schiaparelli Hemisphere Enhanced',\n",
       "  'img_url': 'https://marshemispheres.com/images/3778f7b43bbbc89d6e3cfabb3613ba93_schiaparelli_enhanced.tif_full.jpg'},\n",
       " {'title': 'Syrtis Major Hemisphere Enhanced',\n",
       "  'img_url': 'https://marshemispheres.com/images/555e6403a6ddd7ba16ddb0e471cadcf7_syrtis_major_enhanced.tif_full.jpg'},\n",
       " {'title': 'Valles Marineris Hemisphere Enhanced',\n",
       "  'img_url': 'https://marshemispheres.com/images/b3c7c6c9138f57b4756be9b9c43e3a48_valles_marineris_enhanced.tif_full.jpg'}]"
      ]
     },
     "execution_count": 176,
     "metadata": {},
     "output_type": "execute_result"
    }
   ],
   "source": [
    "# Dependencies\n",
    "from splinter import Browser\n",
    "\n",
    "executable_path = {'executable_path': ChromeDriverManager().install()}\n",
    "browser_hemis = Browser('chrome', **executable_path, headless=False)\n",
    "url_hemis = 'https://marshemispheres.com/'\n",
    "browser_hemis.visit(url_hemis)\n",
    "\n",
    "\n",
    "## Identify the full resolution links for all pictures\n",
    "# 1) Setup BeautifulSoup\n",
    "html_hemi = browser_hemis.html\n",
    "soup_hemi = BeautifulSoup(html_hemi, \"html.parser\")"
   ]
  },
  {
   "cell_type": "code",
   "execution_count": null,
   "metadata": {},
   "outputs": [],
   "source": [
    "# Search on description, as this is unique to the 4 pictures/links.\n",
    "images = soup_hemi.find_all('div', class_=\"description\")\n",
    "\n",
    "# To capture each iteration\n",
    "hemi_dict = {}\n",
    "\n",
    "# To append into dictionary\n",
    "hemisphere_image_url = []\n",
    "\n",
    "\n",
    "## 2) Iterate through each link from base url:\n",
    "for image in images:\n",
    "    # Scrape titles of each photo\n",
    "    title = image.find('h3').text\n",
    "    # print(title)\n",
    "    \n",
    "    # Obtain url link for image\n",
    "    url_hemi_images = image.find('a')['href']\n",
    "    # Construct full link to \n",
    "    img_url_ind = f'{url_hemis}{url_hemi_images}'\n",
    "    # print(img_url_ind)    \n",
    "    \n",
    "    # Setup splinter in each individual hemi page\n",
    "    executable_path = {'executable_path': ChromeDriverManager().install()}\n",
    "    browser_hemis_ind = Browser('chrome', **executable_path, headless=True)\n",
    "    browser_hemis_ind.visit(img_url_ind)\n",
    "    \n",
    "    # Setup BS\n",
    "    html_img_ind = browser_hemis_ind.html\n",
    "    soup_img_ind = BeautifulSoup(html_img_ind, \"html.parser\")\n",
    "    \n",
    "    # Now find full image URL from this page\n",
    "    image_url_ind = soup_img_ind.find_all('img', class_=\"wide-image\")\n",
    "    url_ind = image_url_ind[0]['src']\n",
    "    \n",
    "    # Create full image url with base url\n",
    "    img_url = f'{url_hemis}{url_ind}'\n",
    "    # print(img_url)\n",
    "    \n",
    "    # Add title to dictionary\n",
    "    hemi_dict = {\"title\": title, \"img_url\": img_url}\n",
    "    \n",
    "    # Append each interation so not overwritten\n",
    "    hemisphere_image_url.append(hemi_dict)\n",
    "\n",
    "\n",
    "hemisphere_image_url"
   ]
  }
 ],
 "metadata": {
  "kernelspec": {
   "display_name": "Python 3 (ipykernel)",
   "language": "python",
   "name": "python3"
  },
  "language_info": {
   "codemirror_mode": {
    "name": "ipython",
    "version": 3
   },
   "file_extension": ".py",
   "mimetype": "text/x-python",
   "name": "python",
   "nbconvert_exporter": "python",
   "pygments_lexer": "ipython3",
   "version": "3.7.13"
  },
  "vscode": {
   "interpreter": {
    "hash": "c1045dce47e268ff1365c3f603defeb0aa850c229e636842f21fdc3e170438c8"
   }
  }
 },
 "nbformat": 4,
 "nbformat_minor": 2
}
